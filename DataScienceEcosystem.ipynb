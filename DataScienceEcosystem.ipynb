{
 "cells": [
  {
   "cell_type": "markdown",
   "id": "54358758-0d8e-4d02-a1e6-3c5b73c2e8aa",
   "metadata": {},
   "source": [
    "# Data Science Tools and Ecosystem"
   ]
  },
  {
   "cell_type": "markdown",
   "id": "46b68046-63d0-4cf6-a4d4-af1ff677ca82",
   "metadata": {},
   "source": [
    "In this notebook, Data Science Tools and Ecosystem are summarized."
   ]
  },
  {
   "cell_type": "markdown",
   "id": "be51a638-dab6-4c1c-99ae-94b03a947cf3",
   "metadata": {},
   "source": [
    "**Objectives**\n",
    "* List of popular languages for Data Science\n",
    "* List of used libraries in Data Science\n",
    "* Table of development environment open source tools in Data Science\n",
    "* Examples of arithmetic expressions"
   ]
  },
  {
   "cell_type": "markdown",
   "id": "e2bd2694-35ab-4b5d-8cff-e700c98e08d7",
   "metadata": {},
   "source": [
    "Some of the popular languages that Data Scientists use are:\n",
    "1. Python\n",
    "2. R\n",
    "3. SQL"
   ]
  },
  {
   "cell_type": "markdown",
   "id": "9b7f1a3b-c478-4dc3-9096-600db1ab646e",
   "metadata": {},
   "source": [
    "Some of the most commonly used libraries used by Data Scientist include:\n",
    "1. Pandas\n",
    "2. NumPy\n",
    "3. Matplotlib\n",
    "4. Vegas\n",
    "5. ggplot2"
   ]
  },
  {
   "cell_type": "markdown",
   "id": "4868c8f0-c8ea-42c9-925f-632f656287b8",
   "metadata": {},
   "source": [
    "|Data Science Tools|\n",
    "|----|\n",
    "|Jupyter|\n",
    "|RStudio|\n",
    "|Spyder|"
   ]
  },
  {
   "cell_type": "markdown",
   "id": "b33fad64-125b-4e97-ba9c-fa96cb228b63",
   "metadata": {},
   "source": [
    "### Below are a few examples of evaluating arithmetic expressions in Python"
   ]
  },
  {
   "cell_type": "code",
   "execution_count": 2,
   "id": "1e2c7fc9-454b-4a89-b9a3-92f68266dece",
   "metadata": {
    "tags": []
   },
   "outputs": [
    {
     "data": {
      "text/plain": [
       "17"
      ]
     },
     "execution_count": 2,
     "metadata": {},
     "output_type": "execute_result"
    }
   ],
   "source": [
    "# This is a simple arithmetic expression to multiply then add integers.\n",
    "(3*4)+5"
   ]
  },
  {
   "cell_type": "code",
   "execution_count": 3,
   "id": "fe202284-16b1-4596-8250-48069b94e845",
   "metadata": {
    "tags": []
   },
   "outputs": [
    {
     "data": {
      "text/plain": [
       "3.3333333333333335"
      ]
     },
     "execution_count": 3,
     "metadata": {},
     "output_type": "execute_result"
    }
   ],
   "source": [
    "# This will convert 200 minutes into hours by dividing by 60.\n",
    "200/60"
   ]
  },
  {
   "cell_type": "markdown",
   "id": "c56d2e71-e0a4-46ee-a311-1d8c0fdd2b71",
   "metadata": {},
   "source": [
    "## Author\n",
    "Damian Alejandro Tarelo Garcia"
   ]
  }
 ],
 "metadata": {
  "kernelspec": {
   "display_name": "Python",
   "language": "python",
   "name": "conda-env-python-py"
  },
  "language_info": {
   "codemirror_mode": {
    "name": "ipython",
    "version": 3
   },
   "file_extension": ".py",
   "mimetype": "text/x-python",
   "name": "python",
   "nbconvert_exporter": "python",
   "pygments_lexer": "ipython3",
   "version": "3.7.12"
  }
 },
 "nbformat": 4,
 "nbformat_minor": 5
}
